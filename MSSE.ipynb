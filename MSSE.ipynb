{
 "cells": [
  {
   "cell_type": "markdown",
   "source": [
    "### Faculty Of Computers & Artificial Intelligence - Cairo University\n",
    "### Supervised Learning, Assignment 2\n",
    "### Proudly Done By\n",
    "## Khaled Waleed 20210127\n",
    "## Mohammed Mohsen 20210353\n",
    "### Date 20-Mar-2024"
   ],
   "metadata": {
    "collapsed": false
   },
   "id": "e6fc4cae602618"
  },
  {
   "cell_type": "code",
   "execution_count": 2,
   "id": "initial_id",
   "metadata": {
    "collapsed": true,
    "ExecuteTime": {
     "end_time": "2024-05-21T13:17:57.129541Z",
     "start_time": "2024-05-21T13:17:51.969734Z"
    }
   },
   "outputs": [],
   "source": [
    "# imports\n",
    "import cupy as np # Using cupy instead of numpy to allow for use of graphics card if needed (it's overkill I know) but still calling it np to easily switch later if needed since they are interchangeable\n",
    "import matplotlib.pyplot as plt\n",
    "from sklearn.datasets import load_iris"
   ]
  },
  {
   "cell_type": "markdown",
   "source": [
    "## My brief Derivation of the best-fit line parameters formula (I used my own equation)\n",
    "### This is only for 1 input just because I want to derive the equation myself from the ground up\n",
    "\n",
    "Assume the optimal line is\n",
    "\n",
    ">$\\LARGE \\hat{y} = m \\cdot x_i + c$\n",
    "\n",
    "\n",
    "The Loss (error) function will be\n",
    ">$\\LARGE\n",
    "E = \\sum ((m x_i + c) - y_i) ^ 2\n",
    "$\n",
    "\n",
    "\n",
    "After Taking the derivative on both variables of the optimal line (m, c) and assigning them with 0 , we will have two equations\n",
    "\n",
    "Equation number 1\n",
    ">$\\LARGE\n",
    "\\sum (m x_i + c - y_i) \\cdot x_i = 0\n",
    "$\n",
    "\n",
    "Equation number 2\n",
    ">$\\LARGE\n",
    "\\sum m x_i + c - y_i = 0\n",
    "$\n",
    "\n",
    "\n",
    "By distributing the sum over all terms of equation 2, we end up with the following\n",
    ">$\\LARGE\n",
    "\\sum m x_i + \\sum c = \\sum y_i\n",
    "$\n",
    "\n",
    ">$\\LARGE\n",
    "m \\sum x_i + n c = \\sum y_i\n",
    "$\n",
    "\n",
    "Dividing by n\n",
    ">$\\LARGE\n",
    "m (\\sum x_i ) / n + c = (\\sum y_i) / n\n",
    "$\n",
    "\n",
    ">$\\LARGE\n",
    "m \\bar x + n = \\bar y\n",
    "$\n",
    "\n",
    "Note: bar here means average\n",
    "\n",
    "\n",
    "Call the following equation 3, which is very important\n",
    ">$\\LARGE c = \\bar y - m \\bar x$\n",
    "\n",
    "\n",
    "Substituting equation 3 in equation 2\n",
    ">$\\LARGE m \\sum x_i^2 + (\\bar y - m \\bar x) \\sum x_i = \\sum y_i x_i\n",
    "$\n",
    "\n",
    "Putting m in one side, call this equation 4\n",
    ">$\\LARGE m = \\frac{\\sum y_i x_i - \\bar y \\sum x_i}{\\sum x_i^2 - \\bar x \\sum x_i}$\n",
    "\n",
    "\n",
    "Now you can simply use equation 3 and 4 to calculate the parameters of the best fit line directly :)"
   ],
   "metadata": {
    "collapsed": false
   },
   "id": "80a684365e3801c"
  },
  {
   "cell_type": "code",
   "outputs": [],
   "source": [
    "# Generating dummy data\n",
    "np.random.seed(563)\n",
    "x_training = np.random.uniform(size=5, low=0, high= 5) # Random 5 Points\n",
    "y_training = np.array(17 * x_training + 5) # Random Ground-Truth equation"
   ],
   "metadata": {
    "collapsed": false,
    "ExecuteTime": {
     "end_time": "2024-05-21T13:17:59.261701Z",
     "start_time": "2024-05-21T13:17:57.130906Z"
    }
   },
   "id": "f1d9983498e76fd1",
   "execution_count": 3
  },
  {
   "cell_type": "code",
   "outputs": [
    {
     "data": {
      "text/plain": "<Figure size 640x480 with 1 Axes>",
      "image/png": "[encoded data removed]"
     },
     "metadata": {},
     "output_type": "display_data"
    }
   ],
   "source": [
    "# Plotting the data\n",
    "plt.plot(x_training.get(), y_training.get(), 'o')\n",
    "plt.show()"
   ],
   "metadata": {
    "collapsed": false,
    "ExecuteTime": {
     "end_time": "2024-05-21T13:17:59.415539Z",
     "start_time": "2024-05-21T13:17:59.262709Z"
    }
   },
   "id": "7b68f11d8ca63d58",
   "execution_count": 4
  },
  {
   "cell_type": "markdown",
   "source": [
    "$$\\LARGE m = \\frac{\\sum y_i x_i - \\bar y \\sum x_i}{\\sum x_i^2 - \\bar x \\sum x_i}$$\n",
    "\n",
    "$$\\huge c = \\bar y - m \\bar x$$"
   ],
   "metadata": {
    "collapsed": false
   },
   "id": "7ad554233db5f81"
  },
  {
   "cell_type": "code",
   "outputs": [],
   "source": [
    "# Training\n",
    "def calculate_m(x, y):\n",
    "    return ((np.sum(y * x) - np.average(y) * np.sum(x)) /\n",
    "            (np.sum(x ** 2) - np.average(x) * np.sum(x)))\n",
    "\n",
    "def calculate_c(x, y, m):\n",
    "    return np.average(y) - m * np.average(x)\n",
    "\n",
    "m = calculate_m(x_training, y_training)\n",
    "c = calculate_c(x_training, y_training, m)"
   ],
   "metadata": {
    "collapsed": false,
    "ExecuteTime": {
     "end_time": "2024-05-21T13:18:00.993435Z",
     "start_time": "2024-05-21T13:17:59.416812Z"
    }
   },
   "id": "d8107d97cf7136ca",
   "execution_count": 5
  },
  {
   "cell_type": "code",
   "outputs": [
    {
     "name": "stdout",
     "output_type": "stream",
     "text": [
      "[28.20609339 48.31749087 77.3845756   9.7428813  89.11969115]\n",
      "[28.20609339 48.31749087 77.3845756   9.7428813  89.11969115]\n"
     ]
    }
   ],
   "source": [
    "# Testing\n",
    "y_predicted = m * x_training + c\n",
    "\n",
    "print(y_training)\n",
    "print(y_predicted)"
   ],
   "metadata": {
    "collapsed": false,
    "ExecuteTime": {
     "end_time": "2024-05-21T13:18:01.517489Z",
     "start_time": "2024-05-21T13:18:00.995441Z"
    }
   },
   "id": "b909b31120a0de0c",
   "execution_count": 6
  },
  {
   "cell_type": "code",
   "outputs": [],
   "source": [
    "# Adding Noise to Data\n",
    "noise_limit = np.average(y_training) / 2\n",
    "y_training_noisy = np.array([x_i + np.random.uniform(low=-noise_limit, high=noise_limit) for x_i in y_training]) # adding random value to every point in x"
   ],
   "metadata": {
    "collapsed": false,
    "ExecuteTime": {
     "end_time": "2024-05-21T13:18:02.514181Z",
     "start_time": "2024-05-21T13:18:01.518495Z"
    }
   },
   "id": "e67bffcce26f1f57",
   "execution_count": 7
  },
  {
   "cell_type": "code",
   "outputs": [],
   "source": [
    "# Re-Training with noisy data\n",
    "m_noisy = calculate_m(x_training, y_training_noisy)\n",
    "c_noisy = calculate_c(x_training, y_training_noisy, m_noisy)"
   ],
   "metadata": {
    "collapsed": false,
    "ExecuteTime": {
     "end_time": "2024-05-21T13:18:02.520853Z",
     "start_time": "2024-05-21T13:18:02.515213Z"
    }
   },
   "id": "8328a2f86c09c231",
   "execution_count": 8
  },
  {
   "cell_type": "code",
   "outputs": [
    {
     "data": {
      "text/plain": "[<matplotlib.lines.Line2D at 0x27278902b10>]"
     },
     "execution_count": 9,
     "metadata": {},
     "output_type": "execute_result"
    },
    {
     "data": {
      "text/plain": "<Figure size 640x480 with 1 Axes>",
      "image/png": "[encoded data removed]"
     },
     "metadata": {},
     "output_type": "display_data"
    }
   ],
   "source": [
    "# Re-Testing with noisy data\n",
    "y_predicted_noisy = m_noisy * x_training + c_noisy\n",
    "\n",
    "#plotting the data\n",
    "plt.scatter(x_training.get(), y_training_noisy.get())\n",
    "x_line = np.linspace(min(x_training), max(x_training), 100)\n",
    "plt.plot(x_line.get(), (m_noisy * x_line + c_noisy).get())"
   ],
   "metadata": {
    "collapsed": false,
    "ExecuteTime": {
     "end_time": "2024-05-21T13:18:04.280183Z",
     "start_time": "2024-05-21T13:18:02.521859Z"
    }
   },
   "id": "f0974ba4a60cd11e",
   "execution_count": 9
  },
  {
   "cell_type": "markdown",
   "source": [
    "### This Time with Generalized Linear Algebra formula to support more than 2 dimensions"
   ],
   "metadata": {
    "collapsed": false
   },
   "id": "c92c0a7312135f7b"
  },
  {
   "cell_type": "code",
   "outputs": [],
   "source": [
    "# Data Preparing\n",
    "iris = load_iris()\n",
    "x_iris = iris.data\n",
    "y_iris = iris.target\n",
    "\n",
    "y_iris[y_iris == 2] = 1 # Grouping class 2, 3 together\n",
    "\n",
    "# Splitting the data into 2 classes\n",
    "x_iris_class1 = x_iris[y_iris == 0]\n",
    "x_iris_class2 = x_iris[y_iris == 1]\n",
    "\n",
    "\n",
    "# grouping the data with specific requirements\n",
    "x_iris_training = np.vstack((x_iris_class1[10:], x_iris_class2[20:]))\n",
    "y_iris_training = np.array([-1] * 40 + [1] * 80)\n",
    "\n",
    "x_iris_testing = np.vstack((x_iris_class1[:10], x_iris_class2[:20]))\n",
    "y_iris_testing = np.array([-1] * 10 + [1] * 20)"
   ],
   "metadata": {
    "collapsed": false,
    "ExecuteTime": {
     "end_time": "2024-05-21T13:18:04.309823Z",
     "start_time": "2024-05-21T13:18:04.281190Z"
    }
   },
   "id": "c994b89d27acabf5",
   "execution_count": 10
  },
  {
   "cell_type": "code",
   "outputs": [
    {
     "name": "stdout",
     "output_type": "stream",
     "text": [
      "Accuracy = 1.0\n"
     ]
    }
   ],
   "source": [
    "weights = np.linalg.inv(np.transpose(x_iris_training) @ x_iris_training) @ np.transpose(x_iris_training) @ y_iris_training\n",
    "\n",
    "y_iris_prediction = x_iris_testing @ weights\n",
    "\n",
    "y_iris_prediction = np.where(y_iris_prediction > 0, 1, -1)\n",
    "\n",
    "acc = y_iris_testing * y_iris_prediction\n",
    "print(f\"Accuracy = {len(acc[acc == 1]) / len(acc)}\") # nailed it :)"
   ],
   "metadata": {
    "collapsed": false,
    "ExecuteTime": {
     "end_time": "2024-05-21T13:18:07.681167Z",
     "start_time": "2024-05-21T13:18:04.310830Z"
    }
   },
   "id": "e2c6b910b516cb27",
   "execution_count": 11
  }
 ],
 "metadata": {
  "kernelspec": {
   "display_name": "Python 3",
   "language": "python",
   "name": "python3"
  },
  "language_info": {
   "codemirror_mode": {
    "name": "ipython",
    "version": 2
   },
   "file_extension": ".py",
   "mimetype": "text/x-python",
   "name": "python",
   "nbconvert_exporter": "python",
   "pygments_lexer": "ipython2",
   "version": "2.7.6"
  }
 },
 "nbformat": 4,
 "nbformat_minor": 5
}
